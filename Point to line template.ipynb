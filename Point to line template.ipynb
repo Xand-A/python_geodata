{
 "cells": [
  {
   "cell_type": "markdown",
   "id": "2e595090-5ce9-484a-9a63-06c4e30ae427",
   "metadata": {},
   "source": [
    "# <font color = 'green'> Nearest relation workbook - Geospatial line data: GB Only "
   ]
  },
  {
   "cell_type": "markdown",
   "id": "f761e15a-dc3a-486a-a30f-66471577526f",
   "metadata": {},
   "source": [
    "#### Documentation: Notebook assessing referenced location data to UK Postcode data\n",
    "   - Distance to ref line from point\n",
    "   - Referenced index\n",
    "   - Referenced indicator (i.e. river type etc)\n",
    "   - Count of referenced locations within specified radius of postcode centroid\n",
    "   \n",
    "#### Author: Alex Armstrong \n",
    "#### Created: 06/2022\n",
    "#### Version: 0.2"
   ]
  },
  {
   "cell_type": "markdown",
   "id": "eef5cf1a-66f4-44b3-a1dc-ea0109bdf29b",
   "metadata": {},
   "source": [
    "## <font color = 'green'> Set up workbook"
   ]
  },
  {
   "cell_type": "code",
   "execution_count": 1,
   "id": "954d6694-7e3d-4fae-bee3-342b7a7b74ab",
   "metadata": {
    "scrolled": true,
    "tags": []
   },
   "outputs": [
    {
     "name": "stdout",
     "output_type": "stream",
     "text": [
      "Requirement already satisfied: adlfs in /opt/conda/lib/python3.8/site-packages (2022.7.0)\n",
      "Requirement already satisfied: azure-datalake-store<0.1,>=0.0.46 in /opt/conda/lib/python3.8/site-packages (from adlfs) (0.0.52)\n",
      "Requirement already satisfied: azure-core>=1.7.0 in /opt/conda/lib/python3.8/site-packages (from adlfs) (1.20.1)\n",
      "Requirement already satisfied: aiohttp in /opt/conda/lib/python3.8/site-packages (from adlfs) (3.7.4.post0)\n",
      "Requirement already satisfied: fsspec>=2021.10.1 in /opt/conda/lib/python3.8/site-packages (from adlfs) (2022.8.2)\n",
      "Requirement already satisfied: azure-storage-blob>=12.5.0 in /opt/conda/lib/python3.8/site-packages (from adlfs) (12.8.1)\n",
      "Requirement already satisfied: azure-identity in /opt/conda/lib/python3.8/site-packages (from adlfs) (1.6.0)\n",
      "Requirement already satisfied: six>=1.11.0 in /opt/conda/lib/python3.8/site-packages (from azure-core>=1.7.0->adlfs) (1.15.0)\n",
      "Requirement already satisfied: requests>=2.18.4 in /opt/conda/lib/python3.8/site-packages (from azure-core>=1.7.0->adlfs) (2.25.1)\n",
      "Requirement already satisfied: cffi in /opt/conda/lib/python3.8/site-packages (from azure-datalake-store<0.1,>=0.0.46->adlfs) (1.14.5)\n",
      "Requirement already satisfied: adal>=0.4.2 in /opt/conda/lib/python3.8/site-packages (from azure-datalake-store<0.1,>=0.0.46->adlfs) (1.2.7)\n",
      "Requirement already satisfied: cryptography>=1.1.0 in /opt/conda/lib/python3.8/site-packages (from adal>=0.4.2->azure-datalake-store<0.1,>=0.0.46->adlfs) (3.3.2)\n",
      "Requirement already satisfied: PyJWT<3,>=1.0.0 in /opt/conda/lib/python3.8/site-packages (from adal>=0.4.2->azure-datalake-store<0.1,>=0.0.46->adlfs) (2.3.0)\n",
      "Requirement already satisfied: python-dateutil<3,>=2.1.0 in /opt/conda/lib/python3.8/site-packages (from adal>=0.4.2->azure-datalake-store<0.1,>=0.0.46->adlfs) (2.8.1)\n",
      "Requirement already satisfied: msrest>=0.6.18 in /opt/conda/lib/python3.8/site-packages (from azure-storage-blob>=12.5.0->adlfs) (0.6.21)\n",
      "Requirement already satisfied: pycparser in /opt/conda/lib/python3.8/site-packages (from cffi->azure-datalake-store<0.1,>=0.0.46->adlfs) (2.20)\n",
      "Requirement already satisfied: requests-oauthlib>=0.5.0 in /opt/conda/lib/python3.8/site-packages (from msrest>=0.6.18->azure-storage-blob>=12.5.0->adlfs) (1.3.0)\n",
      "Requirement already satisfied: certifi>=2017.4.17 in /opt/conda/lib/python3.8/site-packages (from msrest>=0.6.18->azure-storage-blob>=12.5.0->adlfs) (2021.10.8)\n",
      "Requirement already satisfied: isodate>=0.6.0 in /opt/conda/lib/python3.8/site-packages (from msrest>=0.6.18->azure-storage-blob>=12.5.0->adlfs) (0.6.0)\n",
      "Requirement already satisfied: chardet<5,>=3.0.2 in /opt/conda/lib/python3.8/site-packages (from requests>=2.18.4->azure-core>=1.7.0->adlfs) (4.0.0)\n",
      "Requirement already satisfied: idna<3,>=2.5 in /opt/conda/lib/python3.8/site-packages (from requests>=2.18.4->azure-core>=1.7.0->adlfs) (2.10)\n",
      "Requirement already satisfied: urllib3<1.27,>=1.21.1 in /opt/conda/lib/python3.8/site-packages (from requests>=2.18.4->azure-core>=1.7.0->adlfs) (1.26.7)\n",
      "Requirement already satisfied: oauthlib>=3.0.0 in /opt/conda/lib/python3.8/site-packages (from requests-oauthlib>=0.5.0->msrest>=0.6.18->azure-storage-blob>=12.5.0->adlfs) (3.0.1)\n",
      "Requirement already satisfied: attrs>=17.3.0 in /opt/conda/lib/python3.8/site-packages (from aiohttp->adlfs) (20.3.0)\n",
      "Requirement already satisfied: multidict<7.0,>=4.5 in /opt/conda/lib/python3.8/site-packages (from aiohttp->adlfs) (5.1.0)\n",
      "Requirement already satisfied: yarl<2.0,>=1.0 in /opt/conda/lib/python3.8/site-packages (from aiohttp->adlfs) (1.6.3)\n",
      "Requirement already satisfied: typing-extensions>=3.6.5 in /opt/conda/lib/python3.8/site-packages (from aiohttp->adlfs) (3.7.4.3)\n",
      "Requirement already satisfied: async-timeout<4.0,>=3.0 in /opt/conda/lib/python3.8/site-packages (from aiohttp->adlfs) (3.0.1)\n",
      "Requirement already satisfied: msal<2.0.0,>=1.7.0 in /opt/conda/lib/python3.8/site-packages (from azure-identity->adlfs) (1.16.0)\n",
      "Requirement already satisfied: msal-extensions~=0.3.0 in /opt/conda/lib/python3.8/site-packages (from azure-identity->adlfs) (0.3.0)\n",
      "Requirement already satisfied: portalocker~=1.0 in /opt/conda/lib/python3.8/site-packages (from msal-extensions~=0.3.0->azure-identity->adlfs) (1.7.0)\n",
      "Requirement already satisfied: geopandas in /opt/conda/lib/python3.8/site-packages (0.11.1)\n",
      "Requirement already satisfied: packaging in /opt/conda/lib/python3.8/site-packages (from geopandas) (20.9)\n",
      "Requirement already satisfied: fiona>=1.8 in /opt/conda/lib/python3.8/site-packages (from geopandas) (1.8.21)\n",
      "Requirement already satisfied: shapely<2,>=1.7 in /opt/conda/lib/python3.8/site-packages (from geopandas) (1.8.4)\n",
      "Requirement already satisfied: pyproj>=2.6.1.post1 in /opt/conda/lib/python3.8/site-packages (from geopandas) (3.3.1)\n",
      "Requirement already satisfied: pandas>=1.0.0 in /opt/conda/lib/python3.8/site-packages (from geopandas) (1.2.3)\n",
      "Requirement already satisfied: cligj>=0.5 in /opt/conda/lib/python3.8/site-packages (from fiona>=1.8->geopandas) (0.7.2)\n",
      "Requirement already satisfied: six>=1.7 in /opt/conda/lib/python3.8/site-packages (from fiona>=1.8->geopandas) (1.15.0)\n",
      "Requirement already satisfied: certifi in /opt/conda/lib/python3.8/site-packages (from fiona>=1.8->geopandas) (2021.10.8)\n",
      "Requirement already satisfied: click-plugins>=1.0 in /opt/conda/lib/python3.8/site-packages (from fiona>=1.8->geopandas) (1.1.1)\n",
      "Requirement already satisfied: attrs>=17 in /opt/conda/lib/python3.8/site-packages (from fiona>=1.8->geopandas) (20.3.0)\n",
      "Requirement already satisfied: click>=4.0 in /opt/conda/lib/python3.8/site-packages (from fiona>=1.8->geopandas) (7.1.2)\n",
      "Requirement already satisfied: munch in /opt/conda/lib/python3.8/site-packages (from fiona>=1.8->geopandas) (2.5.0)\n",
      "Requirement already satisfied: setuptools in /opt/conda/lib/python3.8/site-packages (from fiona>=1.8->geopandas) (49.6.0.post20210108)\n",
      "Requirement already satisfied: python-dateutil>=2.7.3 in /opt/conda/lib/python3.8/site-packages (from pandas>=1.0.0->geopandas) (2.8.1)\n",
      "Requirement already satisfied: pytz>=2017.3 in /opt/conda/lib/python3.8/site-packages (from pandas>=1.0.0->geopandas) (2019.1)\n",
      "Requirement already satisfied: numpy>=1.16.5 in /opt/conda/lib/python3.8/site-packages (from pandas>=1.0.0->geopandas) (1.20.1)\n",
      "Requirement already satisfied: pyparsing>=2.0.2 in /opt/conda/lib/python3.8/site-packages (from packaging->geopandas) (2.4.7)\n",
      "Requirement already satisfied: adlfs in /opt/conda/lib/python3.8/site-packages (2022.7.0)\n",
      "Requirement already satisfied: aiohttp in /opt/conda/lib/python3.8/site-packages (from adlfs) (3.7.4.post0)\n",
      "Requirement already satisfied: azure-core>=1.7.0 in /opt/conda/lib/python3.8/site-packages (from adlfs) (1.20.1)\n",
      "Requirement already satisfied: azure-storage-blob>=12.5.0 in /opt/conda/lib/python3.8/site-packages (from adlfs) (12.8.1)\n",
      "Requirement already satisfied: azure-datalake-store<0.1,>=0.0.46 in /opt/conda/lib/python3.8/site-packages (from adlfs) (0.0.52)\n",
      "Requirement already satisfied: fsspec>=2021.10.1 in /opt/conda/lib/python3.8/site-packages (from adlfs) (2022.8.2)\n",
      "Requirement already satisfied: azure-identity in /opt/conda/lib/python3.8/site-packages (from adlfs) (1.6.0)\n",
      "Requirement already satisfied: requests>=2.18.4 in /opt/conda/lib/python3.8/site-packages (from azure-core>=1.7.0->adlfs) (2.25.1)\n",
      "Requirement already satisfied: six>=1.11.0 in /opt/conda/lib/python3.8/site-packages (from azure-core>=1.7.0->adlfs) (1.15.0)\n",
      "Requirement already satisfied: adal>=0.4.2 in /opt/conda/lib/python3.8/site-packages (from azure-datalake-store<0.1,>=0.0.46->adlfs) (1.2.7)\n",
      "Requirement already satisfied: cffi in /opt/conda/lib/python3.8/site-packages (from azure-datalake-store<0.1,>=0.0.46->adlfs) (1.14.5)\n",
      "Requirement already satisfied: PyJWT<3,>=1.0.0 in /opt/conda/lib/python3.8/site-packages (from adal>=0.4.2->azure-datalake-store<0.1,>=0.0.46->adlfs) (2.3.0)\n",
      "Requirement already satisfied: cryptography>=1.1.0 in /opt/conda/lib/python3.8/site-packages (from adal>=0.4.2->azure-datalake-store<0.1,>=0.0.46->adlfs) (3.3.2)\n",
      "Requirement already satisfied: python-dateutil<3,>=2.1.0 in /opt/conda/lib/python3.8/site-packages (from adal>=0.4.2->azure-datalake-store<0.1,>=0.0.46->adlfs) (2.8.1)\n",
      "Requirement already satisfied: msrest>=0.6.18 in /opt/conda/lib/python3.8/site-packages (from azure-storage-blob>=12.5.0->adlfs) (0.6.21)\n",
      "Requirement already satisfied: pycparser in /opt/conda/lib/python3.8/site-packages (from cffi->azure-datalake-store<0.1,>=0.0.46->adlfs) (2.20)\n",
      "Requirement already satisfied: certifi>=2017.4.17 in /opt/conda/lib/python3.8/site-packages (from msrest>=0.6.18->azure-storage-blob>=12.5.0->adlfs) (2021.10.8)\n",
      "Requirement already satisfied: requests-oauthlib>=0.5.0 in /opt/conda/lib/python3.8/site-packages (from msrest>=0.6.18->azure-storage-blob>=12.5.0->adlfs) (1.3.0)\n",
      "Requirement already satisfied: isodate>=0.6.0 in /opt/conda/lib/python3.8/site-packages (from msrest>=0.6.18->azure-storage-blob>=12.5.0->adlfs) (0.6.0)\n",
      "Requirement already satisfied: urllib3<1.27,>=1.21.1 in /opt/conda/lib/python3.8/site-packages (from requests>=2.18.4->azure-core>=1.7.0->adlfs) (1.26.7)\n",
      "Requirement already satisfied: chardet<5,>=3.0.2 in /opt/conda/lib/python3.8/site-packages (from requests>=2.18.4->azure-core>=1.7.0->adlfs) (4.0.0)\n",
      "Requirement already satisfied: idna<3,>=2.5 in /opt/conda/lib/python3.8/site-packages (from requests>=2.18.4->azure-core>=1.7.0->adlfs) (2.10)\n",
      "Requirement already satisfied: oauthlib>=3.0.0 in /opt/conda/lib/python3.8/site-packages (from requests-oauthlib>=0.5.0->msrest>=0.6.18->azure-storage-blob>=12.5.0->adlfs) (3.0.1)\n",
      "Requirement already satisfied: multidict<7.0,>=4.5 in /opt/conda/lib/python3.8/site-packages (from aiohttp->adlfs) (5.1.0)\n",
      "Requirement already satisfied: async-timeout<4.0,>=3.0 in /opt/conda/lib/python3.8/site-packages (from aiohttp->adlfs) (3.0.1)\n",
      "Requirement already satisfied: attrs>=17.3.0 in /opt/conda/lib/python3.8/site-packages (from aiohttp->adlfs) (20.3.0)\n",
      "Requirement already satisfied: yarl<2.0,>=1.0 in /opt/conda/lib/python3.8/site-packages (from aiohttp->adlfs) (1.6.3)\n",
      "Requirement already satisfied: typing-extensions>=3.6.5 in /opt/conda/lib/python3.8/site-packages (from aiohttp->adlfs) (3.7.4.3)\n",
      "Requirement already satisfied: msal-extensions~=0.3.0 in /opt/conda/lib/python3.8/site-packages (from azure-identity->adlfs) (0.3.0)\n",
      "Requirement already satisfied: msal<2.0.0,>=1.7.0 in /opt/conda/lib/python3.8/site-packages (from azure-identity->adlfs) (1.16.0)\n",
      "Requirement already satisfied: portalocker~=1.0 in /opt/conda/lib/python3.8/site-packages (from msal-extensions~=0.3.0->azure-identity->adlfs) (1.7.0)\n",
      "Requirement already satisfied: pygeos in /opt/conda/lib/python3.8/site-packages (0.13)\n",
      "Requirement already satisfied: numpy>=1.13 in /opt/conda/lib/python3.8/site-packages (from pygeos) (1.20.1)\n",
      "Requirement already satisfied: rtree in /opt/conda/lib/python3.8/site-packages (1.0.0)\n"
     ]
    }
   ],
   "source": [
    "!python -m pip install adlfs\n",
    "!pip install geopandas\n",
    "!pip install adlfs\n",
    "!pip install pygeos\n",
    "!pip install rtree"
   ]
  },
  {
   "cell_type": "code",
   "execution_count": 2,
   "id": "e943d1de-33ee-4d6d-8bd3-dc389f408950",
   "metadata": {},
   "outputs": [],
   "source": [
    "import pandas as pd\n",
    "import numpy as np\n",
    "import os\n",
    "import geopandas as gpd\n",
    "from shapely.geometry import Point\n",
    "from zipfile import ZipFile\n",
    "import matplotlib.pyplot as plt"
   ]
  },
  {
   "cell_type": "code",
   "execution_count": 3,
   "id": "bcdf01d4-2c15-459b-805b-342a00b8976c",
   "metadata": {},
   "outputs": [],
   "source": [
    "from AZURE_VARS import *"
   ]
  },
  {
   "cell_type": "markdown",
   "id": "3755ed9e-717f-4237-853e-7be7cfedc2a0",
   "metadata": {
    "tags": []
   },
   "source": [
    "## <font color = 'green'> Import ONSPD data"
   ]
  },
  {
   "cell_type": "code",
   "execution_count": 4,
   "id": "648b1701-0bf8-4a12-9514-69f5cc3eea87",
   "metadata": {},
   "outputs": [],
   "source": [
    "usecols = ['pcds', 'doterm', 'oseast1m', 'osnrth1m', 'ctry', 'ru11ind']"
   ]
  },
  {
   "cell_type": "markdown",
   "id": "a5757635-e821-4ba5-9416-da6a7818402d",
   "metadata": {
    "tags": []
   },
   "source": [
    "- pcds = Unit postcode variable length\n",
    "- doterm = date of termination, if __= null__ then postcode is live\n",
    "- oseast1m = National grid reference - Easting\n",
    "- oseast1m = National grid reference - Northing\n",
    "- ctry = Country\n",
    "- ru11ind = 2011 Census rural-urban classification "
   ]
  },
  {
   "cell_type": "code",
   "execution_count": 5,
   "id": "f8aa48ff-f3a6-4669-acaa-ce88d1da3065",
   "metadata": {},
   "outputs": [
    {
     "data": {
      "text/html": [
       "<div>\n",
       "<style scoped>\n",
       "    .dataframe tbody tr th:only-of-type {\n",
       "        vertical-align: middle;\n",
       "    }\n",
       "\n",
       "    .dataframe tbody tr th {\n",
       "        vertical-align: top;\n",
       "    }\n",
       "\n",
       "    .dataframe thead th {\n",
       "        text-align: right;\n",
       "    }\n",
       "</style>\n",
       "<table border=\"1\" class=\"dataframe\">\n",
       "  <thead>\n",
       "    <tr style=\"text-align: right;\">\n",
       "      <th></th>\n",
       "      <th>pcds</th>\n",
       "      <th>doterm</th>\n",
       "      <th>oseast1m</th>\n",
       "      <th>osnrth1m</th>\n",
       "      <th>ctry</th>\n",
       "      <th>ru11ind</th>\n",
       "    </tr>\n",
       "  </thead>\n",
       "  <tbody>\n",
       "    <tr>\n",
       "      <th>0</th>\n",
       "      <td>AB1 0AA</td>\n",
       "      <td>199606.0</td>\n",
       "      <td>385386.0</td>\n",
       "      <td>801193.0</td>\n",
       "      <td>S92000003</td>\n",
       "      <td>3</td>\n",
       "    </tr>\n",
       "    <tr>\n",
       "      <th>1</th>\n",
       "      <td>AB1 0AB</td>\n",
       "      <td>199606.0</td>\n",
       "      <td>385177.0</td>\n",
       "      <td>801314.0</td>\n",
       "      <td>S92000003</td>\n",
       "      <td>3</td>\n",
       "    </tr>\n",
       "    <tr>\n",
       "      <th>2</th>\n",
       "      <td>AB1 0AD</td>\n",
       "      <td>199606.0</td>\n",
       "      <td>385053.0</td>\n",
       "      <td>801092.0</td>\n",
       "      <td>S92000003</td>\n",
       "      <td>3</td>\n",
       "    </tr>\n",
       "    <tr>\n",
       "      <th>3</th>\n",
       "      <td>AB1 0AE</td>\n",
       "      <td>199606.0</td>\n",
       "      <td>384600.0</td>\n",
       "      <td>799300.0</td>\n",
       "      <td>S92000003</td>\n",
       "      <td>6</td>\n",
       "    </tr>\n",
       "    <tr>\n",
       "      <th>4</th>\n",
       "      <td>AB1 0AF</td>\n",
       "      <td>199207.0</td>\n",
       "      <td>384460.0</td>\n",
       "      <td>800660.0</td>\n",
       "      <td>S92000003</td>\n",
       "      <td>3</td>\n",
       "    </tr>\n",
       "    <tr>\n",
       "      <th>...</th>\n",
       "      <td>...</td>\n",
       "      <td>...</td>\n",
       "      <td>...</td>\n",
       "      <td>...</td>\n",
       "      <td>...</td>\n",
       "      <td>...</td>\n",
       "    </tr>\n",
       "    <tr>\n",
       "      <th>2673013</th>\n",
       "      <td>ZE3 9JW</td>\n",
       "      <td>NaN</td>\n",
       "      <td>438975.0</td>\n",
       "      <td>1110038.0</td>\n",
       "      <td>S92000003</td>\n",
       "      <td>8</td>\n",
       "    </tr>\n",
       "    <tr>\n",
       "      <th>2673014</th>\n",
       "      <td>ZE3 9JX</td>\n",
       "      <td>NaN</td>\n",
       "      <td>438872.0</td>\n",
       "      <td>1110219.0</td>\n",
       "      <td>S92000003</td>\n",
       "      <td>8</td>\n",
       "    </tr>\n",
       "    <tr>\n",
       "      <th>2673015</th>\n",
       "      <td>ZE3 9JY</td>\n",
       "      <td>NaN</td>\n",
       "      <td>438498.0</td>\n",
       "      <td>1112029.0</td>\n",
       "      <td>S92000003</td>\n",
       "      <td>8</td>\n",
       "    </tr>\n",
       "    <tr>\n",
       "      <th>2673016</th>\n",
       "      <td>ZE3 9JZ</td>\n",
       "      <td>NaN</td>\n",
       "      <td>438662.0</td>\n",
       "      <td>1112122.0</td>\n",
       "      <td>S92000003</td>\n",
       "      <td>8</td>\n",
       "    </tr>\n",
       "    <tr>\n",
       "      <th>2673017</th>\n",
       "      <td>ZE3 9XP</td>\n",
       "      <td>199207.0</td>\n",
       "      <td>438854.0</td>\n",
       "      <td>1111535.0</td>\n",
       "      <td>S92000003</td>\n",
       "      <td>8</td>\n",
       "    </tr>\n",
       "  </tbody>\n",
       "</table>\n",
       "<p>2673018 rows × 6 columns</p>\n",
       "</div>"
      ],
      "text/plain": [
       "            pcds    doterm  oseast1m   osnrth1m       ctry ru11ind\n",
       "0        AB1 0AA  199606.0  385386.0   801193.0  S92000003       3\n",
       "1        AB1 0AB  199606.0  385177.0   801314.0  S92000003       3\n",
       "2        AB1 0AD  199606.0  385053.0   801092.0  S92000003       3\n",
       "3        AB1 0AE  199606.0  384600.0   799300.0  S92000003       6\n",
       "4        AB1 0AF  199207.0  384460.0   800660.0  S92000003       3\n",
       "...          ...       ...       ...        ...        ...     ...\n",
       "2673013  ZE3 9JW       NaN  438975.0  1110038.0  S92000003       8\n",
       "2673014  ZE3 9JX       NaN  438872.0  1110219.0  S92000003       8\n",
       "2673015  ZE3 9JY       NaN  438498.0  1112029.0  S92000003       8\n",
       "2673016  ZE3 9JZ       NaN  438662.0  1112122.0  S92000003       8\n",
       "2673017  ZE3 9XP  199207.0  438854.0  1111535.0  S92000003       8\n",
       "\n",
       "[2673018 rows x 6 columns]"
      ]
     },
     "execution_count": 5,
     "metadata": {},
     "output_type": "execute_result"
    }
   ],
   "source": [
    "onspd = pd.read_csv('onspd.csv', usecols=usecols, low_memory=False)\n",
    "onspd"
   ]
  },
  {
   "cell_type": "markdown",
   "id": "52cc6433-abd2-4ddd-b085-919d7913040c",
   "metadata": {
    "tags": []
   },
   "source": [
    "<font color=blue> Get point objects and convert to geo-dataframe"
   ]
  },
  {
   "cell_type": "code",
   "execution_count": 6,
   "id": "eb0680fd-b5b9-4209-9557-ee66308e05bd",
   "metadata": {},
   "outputs": [],
   "source": [
    "coords = [Point(xy) for xy in zip(onspd.oseast1m.values, onspd.osnrth1m.values)]\n",
    "geo_pcu = gpd.GeoDataFrame(onspd, geometry=coords, crs='EPSG:27700')"
   ]
  },
  {
   "cell_type": "code",
   "execution_count": 7,
   "id": "d575bc54-a814-4366-9c22-cbfd8451caf1",
   "metadata": {},
   "outputs": [
    {
     "data": {
      "text/html": [
       "<div>\n",
       "<style scoped>\n",
       "    .dataframe tbody tr th:only-of-type {\n",
       "        vertical-align: middle;\n",
       "    }\n",
       "\n",
       "    .dataframe tbody tr th {\n",
       "        vertical-align: top;\n",
       "    }\n",
       "\n",
       "    .dataframe thead th {\n",
       "        text-align: right;\n",
       "    }\n",
       "</style>\n",
       "<table border=\"1\" class=\"dataframe\">\n",
       "  <thead>\n",
       "    <tr style=\"text-align: right;\">\n",
       "      <th></th>\n",
       "      <th>pcds</th>\n",
       "      <th>doterm</th>\n",
       "      <th>oseast1m</th>\n",
       "      <th>osnrth1m</th>\n",
       "      <th>ctry</th>\n",
       "      <th>ru11ind</th>\n",
       "      <th>geometry</th>\n",
       "    </tr>\n",
       "  </thead>\n",
       "  <tbody>\n",
       "    <tr>\n",
       "      <th>0</th>\n",
       "      <td>AB1 0AA</td>\n",
       "      <td>199606.0</td>\n",
       "      <td>385386.0</td>\n",
       "      <td>801193.0</td>\n",
       "      <td>S92000003</td>\n",
       "      <td>3</td>\n",
       "      <td>POINT (385386.000 801193.000)</td>\n",
       "    </tr>\n",
       "    <tr>\n",
       "      <th>1</th>\n",
       "      <td>AB1 0AB</td>\n",
       "      <td>199606.0</td>\n",
       "      <td>385177.0</td>\n",
       "      <td>801314.0</td>\n",
       "      <td>S92000003</td>\n",
       "      <td>3</td>\n",
       "      <td>POINT (385177.000 801314.000)</td>\n",
       "    </tr>\n",
       "    <tr>\n",
       "      <th>2</th>\n",
       "      <td>AB1 0AD</td>\n",
       "      <td>199606.0</td>\n",
       "      <td>385053.0</td>\n",
       "      <td>801092.0</td>\n",
       "      <td>S92000003</td>\n",
       "      <td>3</td>\n",
       "      <td>POINT (385053.000 801092.000)</td>\n",
       "    </tr>\n",
       "    <tr>\n",
       "      <th>3</th>\n",
       "      <td>AB1 0AE</td>\n",
       "      <td>199606.0</td>\n",
       "      <td>384600.0</td>\n",
       "      <td>799300.0</td>\n",
       "      <td>S92000003</td>\n",
       "      <td>6</td>\n",
       "      <td>POINT (384600.000 799300.000)</td>\n",
       "    </tr>\n",
       "    <tr>\n",
       "      <th>4</th>\n",
       "      <td>AB1 0AF</td>\n",
       "      <td>199207.0</td>\n",
       "      <td>384460.0</td>\n",
       "      <td>800660.0</td>\n",
       "      <td>S92000003</td>\n",
       "      <td>3</td>\n",
       "      <td>POINT (384460.000 800660.000)</td>\n",
       "    </tr>\n",
       "    <tr>\n",
       "      <th>...</th>\n",
       "      <td>...</td>\n",
       "      <td>...</td>\n",
       "      <td>...</td>\n",
       "      <td>...</td>\n",
       "      <td>...</td>\n",
       "      <td>...</td>\n",
       "      <td>...</td>\n",
       "    </tr>\n",
       "    <tr>\n",
       "      <th>2673013</th>\n",
       "      <td>ZE3 9JW</td>\n",
       "      <td>NaN</td>\n",
       "      <td>438975.0</td>\n",
       "      <td>1110038.0</td>\n",
       "      <td>S92000003</td>\n",
       "      <td>8</td>\n",
       "      <td>POINT (438975.000 1110038.000)</td>\n",
       "    </tr>\n",
       "    <tr>\n",
       "      <th>2673014</th>\n",
       "      <td>ZE3 9JX</td>\n",
       "      <td>NaN</td>\n",
       "      <td>438872.0</td>\n",
       "      <td>1110219.0</td>\n",
       "      <td>S92000003</td>\n",
       "      <td>8</td>\n",
       "      <td>POINT (438872.000 1110219.000)</td>\n",
       "    </tr>\n",
       "    <tr>\n",
       "      <th>2673015</th>\n",
       "      <td>ZE3 9JY</td>\n",
       "      <td>NaN</td>\n",
       "      <td>438498.0</td>\n",
       "      <td>1112029.0</td>\n",
       "      <td>S92000003</td>\n",
       "      <td>8</td>\n",
       "      <td>POINT (438498.000 1112029.000)</td>\n",
       "    </tr>\n",
       "    <tr>\n",
       "      <th>2673016</th>\n",
       "      <td>ZE3 9JZ</td>\n",
       "      <td>NaN</td>\n",
       "      <td>438662.0</td>\n",
       "      <td>1112122.0</td>\n",
       "      <td>S92000003</td>\n",
       "      <td>8</td>\n",
       "      <td>POINT (438662.000 1112122.000)</td>\n",
       "    </tr>\n",
       "    <tr>\n",
       "      <th>2673017</th>\n",
       "      <td>ZE3 9XP</td>\n",
       "      <td>199207.0</td>\n",
       "      <td>438854.0</td>\n",
       "      <td>1111535.0</td>\n",
       "      <td>S92000003</td>\n",
       "      <td>8</td>\n",
       "      <td>POINT (438854.000 1111535.000)</td>\n",
       "    </tr>\n",
       "  </tbody>\n",
       "</table>\n",
       "<p>2673018 rows × 7 columns</p>\n",
       "</div>"
      ],
      "text/plain": [
       "            pcds    doterm  oseast1m   osnrth1m       ctry ru11ind  \\\n",
       "0        AB1 0AA  199606.0  385386.0   801193.0  S92000003       3   \n",
       "1        AB1 0AB  199606.0  385177.0   801314.0  S92000003       3   \n",
       "2        AB1 0AD  199606.0  385053.0   801092.0  S92000003       3   \n",
       "3        AB1 0AE  199606.0  384600.0   799300.0  S92000003       6   \n",
       "4        AB1 0AF  199207.0  384460.0   800660.0  S92000003       3   \n",
       "...          ...       ...       ...        ...        ...     ...   \n",
       "2673013  ZE3 9JW       NaN  438975.0  1110038.0  S92000003       8   \n",
       "2673014  ZE3 9JX       NaN  438872.0  1110219.0  S92000003       8   \n",
       "2673015  ZE3 9JY       NaN  438498.0  1112029.0  S92000003       8   \n",
       "2673016  ZE3 9JZ       NaN  438662.0  1112122.0  S92000003       8   \n",
       "2673017  ZE3 9XP  199207.0  438854.0  1111535.0  S92000003       8   \n",
       "\n",
       "                               geometry  \n",
       "0         POINT (385386.000 801193.000)  \n",
       "1         POINT (385177.000 801314.000)  \n",
       "2         POINT (385053.000 801092.000)  \n",
       "3         POINT (384600.000 799300.000)  \n",
       "4         POINT (384460.000 800660.000)  \n",
       "...                                 ...  \n",
       "2673013  POINT (438975.000 1110038.000)  \n",
       "2673014  POINT (438872.000 1110219.000)  \n",
       "2673015  POINT (438498.000 1112029.000)  \n",
       "2673016  POINT (438662.000 1112122.000)  \n",
       "2673017  POINT (438854.000 1111535.000)  \n",
       "\n",
       "[2673018 rows x 7 columns]"
      ]
     },
     "execution_count": 7,
     "metadata": {},
     "output_type": "execute_result"
    }
   ],
   "source": [
    "geo_pcu"
   ]
  },
  {
   "cell_type": "code",
   "execution_count": 8,
   "id": "dbe0dccc-22dc-4b62-ba0b-736ed5fee4f5",
   "metadata": {},
   "outputs": [
    {
     "data": {
      "text/plain": [
       "<Derived Projected CRS: EPSG:27700>\n",
       "Name: OSGB36 / British National Grid\n",
       "Axis Info [cartesian]:\n",
       "- E[east]: Easting (metre)\n",
       "- N[north]: Northing (metre)\n",
       "Area of Use:\n",
       "- name: United Kingdom (UK) - offshore to boundary of UKCS within 49°45'N to 61°N and 9°W to 2°E; onshore Great Britain (England, Wales and Scotland). Isle of Man onshore.\n",
       "- bounds: (-9.0, 49.75, 2.01, 61.01)\n",
       "Coordinate Operation:\n",
       "- name: British National Grid\n",
       "- method: Transverse Mercator\n",
       "Datum: Ordnance Survey of Great Britain 1936\n",
       "- Ellipsoid: Airy 1830\n",
       "- Prime Meridian: Greenwich"
      ]
     },
     "execution_count": 8,
     "metadata": {},
     "output_type": "execute_result"
    }
   ],
   "source": [
    "geo_pcu.crs"
   ]
  },
  {
   "cell_type": "markdown",
   "id": "a61007c2-f8cc-4957-a786-e97938243af2",
   "metadata": {
    "tags": []
   },
   "source": [
    "<font color=blue> Remove missing coordinates from data"
   ]
  },
  {
   "cell_type": "code",
   "execution_count": 9,
   "id": "4040b287-3c04-4b65-8d86-2b28c591b29a",
   "metadata": {},
   "outputs": [
    {
     "data": {
      "text/plain": [
       "array([False,  True])"
      ]
     },
     "execution_count": 9,
     "metadata": {},
     "output_type": "execute_result"
    }
   ],
   "source": [
    "geo_pcu['oseast1m'].isnull().unique()"
   ]
  },
  {
   "cell_type": "code",
   "execution_count": 10,
   "id": "97275029-668e-41f9-aa16-cd9a7ac0d9d5",
   "metadata": {},
   "outputs": [
    {
     "data": {
      "text/plain": [
       "2673018"
      ]
     },
     "execution_count": 10,
     "metadata": {},
     "output_type": "execute_result"
    }
   ],
   "source": [
    "len(geo_pcu)"
   ]
  },
  {
   "cell_type": "code",
   "execution_count": 11,
   "id": "84a7fdce-290c-4dd6-99be-d65daac54299",
   "metadata": {},
   "outputs": [],
   "source": [
    "geo_pcu = geo_pcu[geo_pcu['oseast1m'].notna()]"
   ]
  },
  {
   "cell_type": "code",
   "execution_count": 12,
   "id": "538b4ad4-7dbd-4144-b6c8-7b9bf2e3f255",
   "metadata": {},
   "outputs": [
    {
     "data": {
      "text/plain": [
       "2649532"
      ]
     },
     "execution_count": 12,
     "metadata": {},
     "output_type": "execute_result"
    }
   ],
   "source": [
    "len(geo_pcu)"
   ]
  },
  {
   "cell_type": "markdown",
   "id": "fddee455-54f5-4cd7-82ee-76f160ee34b4",
   "metadata": {},
   "source": [
    "<font color=blue> Identify what postcodes are live / terminated using doterm field"
   ]
  },
  {
   "cell_type": "code",
   "execution_count": 13,
   "id": "06e31d17-0175-404c-956d-aa00cddc660c",
   "metadata": {},
   "outputs": [],
   "source": [
    "live = geo_pcu[geo_pcu.doterm.isna()]\n",
    "terminated = geo_pcu[~geo_pcu.doterm.isna()]"
   ]
  },
  {
   "cell_type": "code",
   "execution_count": 14,
   "id": "e46b59d4-e7c2-44ff-bb33-bc4d7e70bcb5",
   "metadata": {
    "tags": []
   },
   "outputs": [
    {
     "name": "stdout",
     "output_type": "stream",
     "text": [
      "1772619\n",
      "876913\n"
     ]
    }
   ],
   "source": [
    "print(len(live))\n",
    "print(len(terminated))"
   ]
  },
  {
   "cell_type": "markdown",
   "id": "d0146536-15ae-4e9e-8d20-38e14aa46c0d",
   "metadata": {},
   "source": [
    "## <font color = 'green'> Import referenced line location data"
   ]
  },
  {
   "cell_type": "markdown",
   "id": "673aa2f3-2d8d-41ec-84fe-968b8bb1bedf",
   "metadata": {},
   "source": [
    "### Import data from Azure"
   ]
  },
  {
   "cell_type": "markdown",
   "id": "4915b3f0-cd7b-4eee-b62c-79d8b5634637",
   "metadata": {},
   "source": [
    "<font color=blue> Amend BLOBNAME to relevant file path"
   ]
  },
  {
   "cell_type": "code",
   "execution_count": 20,
   "id": "bef31ab8-f9dc-4690-9860-349d1defea8d",
   "metadata": {},
   "outputs": [],
   "source": [
    "waterways = gpd.read_file('GB_Waterways.zip')"
   ]
  },
  {
   "cell_type": "code",
   "execution_count": 22,
   "id": "8fcaf6ab-1671-4419-8206-5787a009f7c8",
   "metadata": {},
   "outputs": [],
   "source": [
    "loc_data_geo = waterways[waterways['form'] != 'lake']"
   ]
  },
  {
   "cell_type": "code",
   "execution_count": 23,
   "id": "dff39773-10a6-4e8f-a403-0f979e43faee",
   "metadata": {},
   "outputs": [
    {
     "data": {
      "text/plain": [
       "165896"
      ]
     },
     "execution_count": 23,
     "metadata": {},
     "output_type": "execute_result"
    }
   ],
   "source": [
    "len(loc_data_geo)"
   ]
  },
  {
   "cell_type": "markdown",
   "id": "688e5deb-f71f-41b7-abab-3fad7a4dedac",
   "metadata": {},
   "source": [
    "### Clean data - reduce to GB only"
   ]
  },
  {
   "cell_type": "markdown",
   "id": "38f4fab7-b48e-4189-8671-40dd415f6446",
   "metadata": {},
   "source": [
    "<font color = 'blue'> Check if ref data includes NI / Channel islands"
   ]
  },
  {
   "cell_type": "code",
   "execution_count": 36,
   "id": "e097bae8-1436-4b8f-8d4d-3af47ff31bb8",
   "metadata": {},
   "outputs": [
    {
     "data": {
      "text/plain": [
       "pcds        0\n",
       "doterm      0\n",
       "oseast1m    0\n",
       "osnrth1m    0\n",
       "ctry        0\n",
       "ru11ind     0\n",
       "geometry    0\n",
       "dtype: int64"
      ]
     },
     "execution_count": 36,
     "metadata": {},
     "output_type": "execute_result"
    }
   ],
   "source": [
    "geo_pcu[geo_pcu.pcds.str.startswith((\"BT\", \"GY\", \"JE\", \"IM\"))].count()"
   ]
  },
  {
   "cell_type": "markdown",
   "id": "f0185994-f07d-401c-9761-cc9e20762a00",
   "metadata": {},
   "source": [
    "<font color = 'blue'>Remove NI / Channel islands from ONSPD & imported data"
   ]
  },
  {
   "cell_type": "code",
   "execution_count": 39,
   "id": "169fd7f3-5959-4ebd-adb4-ea2b2919cb5b",
   "metadata": {},
   "outputs": [],
   "source": [
    "geo_pcu['Area'] = geo_pcu['pcds'].str[:2]\n",
    "geo_pcu = geo_pcu[geo_pcu['Area'] != 'BT']"
   ]
  },
  {
   "cell_type": "markdown",
   "id": "2758d80d-2224-445b-ae3f-7a00847da182",
   "metadata": {},
   "source": [
    "Count to make sure they were dropped"
   ]
  },
  {
   "cell_type": "code",
   "execution_count": 40,
   "id": "7430abf1-231c-4de1-b432-ce8a15911bb4",
   "metadata": {},
   "outputs": [
    {
     "data": {
      "text/plain": [
       "pcds        0\n",
       "doterm      0\n",
       "oseast1m    0\n",
       "osnrth1m    0\n",
       "ctry        0\n",
       "ru11ind     0\n",
       "geometry    0\n",
       "Area        0\n",
       "dtype: int64"
      ]
     },
     "execution_count": 40,
     "metadata": {},
     "output_type": "execute_result"
    }
   ],
   "source": [
    "geo_pcu[geo_pcu.pcds.str.startswith((\"BT\", \"GY\", \"JE\", \"IM\"))].count()"
   ]
  },
  {
   "cell_type": "markdown",
   "id": "f44e8976-66c4-41a3-b8f0-307f072730db",
   "metadata": {},
   "source": [
    "Drop 'Area' columns as no longer required"
   ]
  },
  {
   "cell_type": "code",
   "execution_count": 41,
   "id": "ed53d509-f75b-4a31-a6d2-7eda608f2b20",
   "metadata": {},
   "outputs": [],
   "source": [
    "unwanted_cols = ['Area']"
   ]
  },
  {
   "cell_type": "code",
   "execution_count": 42,
   "id": "b400c71a-e806-4b11-9d30-7fa78501096d",
   "metadata": {},
   "outputs": [],
   "source": [
    "geo_pcu = geo_pcu.drop(columns=unwanted_cols)\n",
    "#loc_data_geo = loc_data_geo.drop(columns=unwanted_cols)"
   ]
  },
  {
   "cell_type": "markdown",
   "id": "c4b344c6-fd09-4934-a51c-bb2dd9d01f13",
   "metadata": {
    "tags": []
   },
   "source": [
    "#### <font color = 'red'> Remove terminated postcodes from df if you wish"
   ]
  },
  {
   "cell_type": "code",
   "execution_count": 43,
   "id": "3db4bd38-0cf3-4a95-a567-2b179258d1e3",
   "metadata": {},
   "outputs": [],
   "source": [
    "#geo_pcu = geo_pcu[geo_pcu.doterm.isna()]"
   ]
  },
  {
   "cell_type": "markdown",
   "id": "32671d42-3f94-409e-b325-8abb12edef85",
   "metadata": {},
   "source": [
    "### Plot initial map to look at data"
   ]
  },
  {
   "cell_type": "code",
   "execution_count": 44,
   "id": "fa80ab04-f2df-4f01-b20f-43c93bd853d0",
   "metadata": {},
   "outputs": [],
   "source": [
    "# gb_boundary = gpd.read_file('GB_Boundaries_2017.zip') "
   ]
  },
  {
   "cell_type": "code",
   "execution_count": 45,
   "id": "d5471987-65e3-4733-830e-15972f89ddec",
   "metadata": {},
   "outputs": [],
   "source": [
    "# plt.figure()\n",
    "# fig, ax = plt.gcf(), plt.gca()\n",
    "# fig.set_size_inches(10, 10)\n",
    "# loc_data_geo.plot(ax=ax, markersize=0.5, color = 'red')\n",
    "# #geo_pcu.plot(ax=ax, alpha=0.1, markersize=0.1)\n",
    "# gb_boundary.boundary.plot(color='black', linewidth=0.5, ax=ax)\n",
    "# ax.axis('off');"
   ]
  },
  {
   "cell_type": "markdown",
   "id": "248dba4b-d2df-4d78-ba58-d60d88da2c94",
   "metadata": {},
   "source": [
    "# Nearest line to point"
   ]
  },
  {
   "cell_type": "markdown",
   "id": "042c04de-1182-4a1e-bb8f-206a51884e33",
   "metadata": {},
   "source": [
    "Get centroid for each postcodegeo_pcu"
   ]
  },
  {
   "cell_type": "code",
   "execution_count": 36,
   "id": "56dbd0dc-520e-41fd-8f15-6299e01dfbc9",
   "metadata": {},
   "outputs": [],
   "source": [
    "import numpy as np"
   ]
  },
  {
   "cell_type": "code",
   "execution_count": 37,
   "id": "56cf0679-dc34-4f1b-bbc0-4190d1b7f906",
   "metadata": {},
   "outputs": [],
   "source": [
    "def min_distance(point):\n",
    "    \"\"\"Calculate the distance (meters) from point data (loc_data_point) to nearest line (loc_data_geo)\"\"\"\n",
    "    return loc_data_geo.distance(point).min()"
   ]
  },
  {
   "cell_type": "code",
   "execution_count": 38,
   "id": "92fc8aa8-01b4-403e-a3bd-f8c02309910b",
   "metadata": {},
   "outputs": [],
   "source": [
    "# %%time\n",
    "\n",
    "# geo_pcu['min_dist_to_lines'] = geo_pcu.head(1000).geometry.apply(min_distance)"
   ]
  },
  {
   "cell_type": "code",
   "execution_count": 39,
   "id": "2cb41fdc-1137-4e61-b046-95392d632538",
   "metadata": {},
   "outputs": [
    {
     "name": "stdout",
     "output_type": "stream",
     "text": [
      "CPU times: user 3d 6h 28min 6s, sys: 9.34 s, total: 3d 6h 28min 15s\n",
      "Wall time: 3d 6h 28min 17s\n"
     ]
    }
   ],
   "source": [
    "%%time\n",
    "\n",
    "geo_pcu['min_dist_to_lines'] = geo_pcu.geometry.apply(min_distance)"
   ]
  },
  {
   "cell_type": "code",
   "execution_count": 40,
   "id": "b6eb9d8d-9c32-4584-a0f6-b7be872f5291",
   "metadata": {},
   "outputs": [
    {
     "data": {
      "text/html": [
       "<div>\n",
       "<style scoped>\n",
       "    .dataframe tbody tr th:only-of-type {\n",
       "        vertical-align: middle;\n",
       "    }\n",
       "\n",
       "    .dataframe tbody tr th {\n",
       "        vertical-align: top;\n",
       "    }\n",
       "\n",
       "    .dataframe thead th {\n",
       "        text-align: right;\n",
       "    }\n",
       "</style>\n",
       "<table border=\"1\" class=\"dataframe\">\n",
       "  <thead>\n",
       "    <tr style=\"text-align: right;\">\n",
       "      <th></th>\n",
       "      <th>pcds</th>\n",
       "      <th>doterm</th>\n",
       "      <th>oseast1m</th>\n",
       "      <th>osnrth1m</th>\n",
       "      <th>ctry</th>\n",
       "      <th>ru11ind</th>\n",
       "      <th>geometry</th>\n",
       "      <th>min_dist_to_lines</th>\n",
       "    </tr>\n",
       "  </thead>\n",
       "  <tbody>\n",
       "    <tr>\n",
       "      <th>0</th>\n",
       "      <td>AB1 0AA</td>\n",
       "      <td>199606.0</td>\n",
       "      <td>385386.0</td>\n",
       "      <td>801193.0</td>\n",
       "      <td>S92000003</td>\n",
       "      <td>3</td>\n",
       "      <td>POINT (385386.000 801193.000)</td>\n",
       "      <td>562.679098</td>\n",
       "    </tr>\n",
       "    <tr>\n",
       "      <th>1</th>\n",
       "      <td>AB1 0AB</td>\n",
       "      <td>199606.0</td>\n",
       "      <td>385177.0</td>\n",
       "      <td>801314.0</td>\n",
       "      <td>S92000003</td>\n",
       "      <td>3</td>\n",
       "      <td>POINT (385177.000 801314.000)</td>\n",
       "      <td>569.055261</td>\n",
       "    </tr>\n",
       "    <tr>\n",
       "      <th>2</th>\n",
       "      <td>AB1 0AD</td>\n",
       "      <td>199606.0</td>\n",
       "      <td>385053.0</td>\n",
       "      <td>801092.0</td>\n",
       "      <td>S92000003</td>\n",
       "      <td>3</td>\n",
       "      <td>POINT (385053.000 801092.000)</td>\n",
       "      <td>320.304830</td>\n",
       "    </tr>\n",
       "    <tr>\n",
       "      <th>3</th>\n",
       "      <td>AB1 0AE</td>\n",
       "      <td>199606.0</td>\n",
       "      <td>384600.0</td>\n",
       "      <td>799300.0</td>\n",
       "      <td>S92000003</td>\n",
       "      <td>6</td>\n",
       "      <td>POINT (384600.000 799300.000)</td>\n",
       "      <td>326.466497</td>\n",
       "    </tr>\n",
       "    <tr>\n",
       "      <th>4</th>\n",
       "      <td>AB1 0AF</td>\n",
       "      <td>199207.0</td>\n",
       "      <td>384460.0</td>\n",
       "      <td>800660.0</td>\n",
       "      <td>S92000003</td>\n",
       "      <td>3</td>\n",
       "      <td>POINT (384460.000 800660.000)</td>\n",
       "      <td>131.860561</td>\n",
       "    </tr>\n",
       "  </tbody>\n",
       "</table>\n",
       "</div>"
      ],
      "text/plain": [
       "      pcds    doterm  oseast1m  osnrth1m       ctry ru11ind  \\\n",
       "0  AB1 0AA  199606.0  385386.0  801193.0  S92000003       3   \n",
       "1  AB1 0AB  199606.0  385177.0  801314.0  S92000003       3   \n",
       "2  AB1 0AD  199606.0  385053.0  801092.0  S92000003       3   \n",
       "3  AB1 0AE  199606.0  384600.0  799300.0  S92000003       6   \n",
       "4  AB1 0AF  199207.0  384460.0  800660.0  S92000003       3   \n",
       "\n",
       "                        geometry  min_dist_to_lines  \n",
       "0  POINT (385386.000 801193.000)         562.679098  \n",
       "1  POINT (385177.000 801314.000)         569.055261  \n",
       "2  POINT (385053.000 801092.000)         320.304830  \n",
       "3  POINT (384600.000 799300.000)         326.466497  \n",
       "4  POINT (384460.000 800660.000)         131.860561  "
      ]
     },
     "execution_count": 40,
     "metadata": {},
     "output_type": "execute_result"
    }
   ],
   "source": [
    "geo_pcu.head(5)"
   ]
  },
  {
   "cell_type": "markdown",
   "id": "fdc184e3-3db8-4471-8374-e704ac4977c1",
   "metadata": {},
   "source": [
    "# <font color = 'green'> Count within radius of point"
   ]
  },
  {
   "cell_type": "markdown",
   "id": "72518119-45a5-4461-97b1-dcf4a954e4f6",
   "metadata": {},
   "source": [
    "<font color = 'blue'> Create a buffer around point data and count ref values within buffer"
   ]
  },
  {
   "cell_type": "code",
   "execution_count": 46,
   "id": "be0d55b0-4ac6-43e2-8e76-5ca341380977",
   "metadata": {},
   "outputs": [],
   "source": [
    "# Make an empty DF and add postcodes for reference\n",
    "Count_df = pd.DataFrame()\n",
    "Count_df['pcds'] = geo_pcu['pcds']"
   ]
  },
  {
   "cell_type": "markdown",
   "id": "8cbb9f6b-4cbc-4d1b-bd46-6e0423851d15",
   "metadata": {},
   "source": [
    "<font color = 'blue'> Specify buffer size (in meters)"
   ]
  },
  {
   "cell_type": "code",
   "execution_count": 47,
   "id": "29b6b519-10c7-454b-81db-df392782ccd4",
   "metadata": {},
   "outputs": [],
   "source": [
    "# Amend distance field below to change size of buffer - in meters\n",
    "distance = 500"
   ]
  },
  {
   "cell_type": "markdown",
   "id": "31518688-754b-449e-8e72-eda92109e7f3",
   "metadata": {},
   "source": [
    "<font color = 'blue'> Using defined buffer size create a buffer around each point and set as new gdf"
   ]
  },
  {
   "cell_type": "code",
   "execution_count": 48,
   "id": "6fed47ba-f5bb-41e1-8474-594452fd036a",
   "metadata": {
    "tags": []
   },
   "outputs": [],
   "source": [
    "Count_df['geometry'] = geo_pcu.buffer(distance)"
   ]
  },
  {
   "cell_type": "code",
   "execution_count": 49,
   "id": "7bda9552-114b-4837-8f8e-6480fa8cd643",
   "metadata": {},
   "outputs": [],
   "source": [
    "Count_df = gpd.GeoDataFrame(Count_df)"
   ]
  },
  {
   "cell_type": "code",
   "execution_count": 50,
   "id": "e0089f91-afe3-4292-8461-05f85246ecd2",
   "metadata": {},
   "outputs": [],
   "source": [
    "Count_df = Count_df.set_geometry('geometry')"
   ]
  },
  {
   "cell_type": "markdown",
   "id": "fc7d6d40-7939-4149-abd1-1778b3105411",
   "metadata": {},
   "source": [
    "<font color = 'blue'> Count referenced location data within specified buffer"
   ]
  },
  {
   "cell_type": "code",
   "execution_count": 51,
   "id": "778068f2-70af-44bf-87b1-1e7db5262de1",
   "metadata": {},
   "outputs": [
    {
     "data": {
      "text/html": [
       "<div>\n",
       "<style scoped>\n",
       "    .dataframe tbody tr th:only-of-type {\n",
       "        vertical-align: middle;\n",
       "    }\n",
       "\n",
       "    .dataframe tbody tr th {\n",
       "        vertical-align: top;\n",
       "    }\n",
       "\n",
       "    .dataframe thead th {\n",
       "        text-align: right;\n",
       "    }\n",
       "</style>\n",
       "<table border=\"1\" class=\"dataframe\">\n",
       "  <thead>\n",
       "    <tr style=\"text-align: right;\">\n",
       "      <th></th>\n",
       "      <th>pcds</th>\n",
       "      <th>geometry</th>\n",
       "    </tr>\n",
       "  </thead>\n",
       "  <tbody>\n",
       "    <tr>\n",
       "      <th>0</th>\n",
       "      <td>AB1 0AA</td>\n",
       "      <td>POLYGON ((385886.000 801193.000, 385883.592 80...</td>\n",
       "    </tr>\n",
       "    <tr>\n",
       "      <th>1</th>\n",
       "      <td>AB1 0AB</td>\n",
       "      <td>POLYGON ((385677.000 801314.000, 385674.592 80...</td>\n",
       "    </tr>\n",
       "    <tr>\n",
       "      <th>2</th>\n",
       "      <td>AB1 0AD</td>\n",
       "      <td>POLYGON ((385553.000 801092.000, 385550.592 80...</td>\n",
       "    </tr>\n",
       "    <tr>\n",
       "      <th>3</th>\n",
       "      <td>AB1 0AE</td>\n",
       "      <td>POLYGON ((385100.000 799300.000, 385097.592 79...</td>\n",
       "    </tr>\n",
       "    <tr>\n",
       "      <th>4</th>\n",
       "      <td>AB1 0AF</td>\n",
       "      <td>POLYGON ((384960.000 800660.000, 384957.592 80...</td>\n",
       "    </tr>\n",
       "    <tr>\n",
       "      <th>...</th>\n",
       "      <td>...</td>\n",
       "      <td>...</td>\n",
       "    </tr>\n",
       "    <tr>\n",
       "      <th>2673013</th>\n",
       "      <td>ZE3 9JW</td>\n",
       "      <td>POLYGON ((439475.000 1110038.000, 439472.592 1...</td>\n",
       "    </tr>\n",
       "    <tr>\n",
       "      <th>2673014</th>\n",
       "      <td>ZE3 9JX</td>\n",
       "      <td>POLYGON ((439372.000 1110219.000, 439369.592 1...</td>\n",
       "    </tr>\n",
       "    <tr>\n",
       "      <th>2673015</th>\n",
       "      <td>ZE3 9JY</td>\n",
       "      <td>POLYGON ((438998.000 1112029.000, 438995.592 1...</td>\n",
       "    </tr>\n",
       "    <tr>\n",
       "      <th>2673016</th>\n",
       "      <td>ZE3 9JZ</td>\n",
       "      <td>POLYGON ((439162.000 1112122.000, 439159.592 1...</td>\n",
       "    </tr>\n",
       "    <tr>\n",
       "      <th>2673017</th>\n",
       "      <td>ZE3 9XP</td>\n",
       "      <td>POLYGON ((439354.000 1111535.000, 439351.592 1...</td>\n",
       "    </tr>\n",
       "  </tbody>\n",
       "</table>\n",
       "<p>2589831 rows × 2 columns</p>\n",
       "</div>"
      ],
      "text/plain": [
       "            pcds                                           geometry\n",
       "0        AB1 0AA  POLYGON ((385886.000 801193.000, 385883.592 80...\n",
       "1        AB1 0AB  POLYGON ((385677.000 801314.000, 385674.592 80...\n",
       "2        AB1 0AD  POLYGON ((385553.000 801092.000, 385550.592 80...\n",
       "3        AB1 0AE  POLYGON ((385100.000 799300.000, 385097.592 79...\n",
       "4        AB1 0AF  POLYGON ((384960.000 800660.000, 384957.592 80...\n",
       "...          ...                                                ...\n",
       "2673013  ZE3 9JW  POLYGON ((439475.000 1110038.000, 439472.592 1...\n",
       "2673014  ZE3 9JX  POLYGON ((439372.000 1110219.000, 439369.592 1...\n",
       "2673015  ZE3 9JY  POLYGON ((438998.000 1112029.000, 438995.592 1...\n",
       "2673016  ZE3 9JZ  POLYGON ((439162.000 1112122.000, 439159.592 1...\n",
       "2673017  ZE3 9XP  POLYGON ((439354.000 1111535.000, 439351.592 1...\n",
       "\n",
       "[2589831 rows x 2 columns]"
      ]
     },
     "execution_count": 51,
     "metadata": {},
     "output_type": "execute_result"
    }
   ],
   "source": [
    "Count_df"
   ]
  },
  {
   "cell_type": "code",
   "execution_count": 52,
   "id": "33bb0c7d-d986-49c0-b679-8c7d1bea129e",
   "metadata": {},
   "outputs": [],
   "source": [
    "data_merged = gpd.sjoin(Count_df, loc_data_geo, how=\"inner\", predicate='intersects')"
   ]
  },
  {
   "cell_type": "code",
   "execution_count": 53,
   "id": "ecbeb1e2-a0c0-4721-b748-8d8cb7ecbd51",
   "metadata": {},
   "outputs": [
    {
     "data": {
      "text/html": [
       "<div>\n",
       "<style scoped>\n",
       "    .dataframe tbody tr th:only-of-type {\n",
       "        vertical-align: middle;\n",
       "    }\n",
       "\n",
       "    .dataframe tbody tr th {\n",
       "        vertical-align: top;\n",
       "    }\n",
       "\n",
       "    .dataframe thead th {\n",
       "        text-align: right;\n",
       "    }\n",
       "</style>\n",
       "<table border=\"1\" class=\"dataframe\">\n",
       "  <thead>\n",
       "    <tr style=\"text-align: right;\">\n",
       "      <th></th>\n",
       "      <th>geometry</th>\n",
       "      <th>index_right</th>\n",
       "      <th>fid</th>\n",
       "      <th>id</th>\n",
       "      <th>fictitious</th>\n",
       "      <th>flowDirect</th>\n",
       "      <th>length</th>\n",
       "      <th>form</th>\n",
       "      <th>watercours</th>\n",
       "      <th>watercou_1</th>\n",
       "      <th>startNode</th>\n",
       "      <th>endNode</th>\n",
       "    </tr>\n",
       "    <tr>\n",
       "      <th>pcds</th>\n",
       "      <th></th>\n",
       "      <th></th>\n",
       "      <th></th>\n",
       "      <th></th>\n",
       "      <th></th>\n",
       "      <th></th>\n",
       "      <th></th>\n",
       "      <th></th>\n",
       "      <th></th>\n",
       "      <th></th>\n",
       "      <th></th>\n",
       "      <th></th>\n",
       "    </tr>\n",
       "  </thead>\n",
       "  <tbody>\n",
       "    <tr>\n",
       "      <th>AB1 0AD</th>\n",
       "      <td>4</td>\n",
       "      <td>4</td>\n",
       "      <td>4</td>\n",
       "      <td>4</td>\n",
       "      <td>4</td>\n",
       "      <td>4</td>\n",
       "      <td>4</td>\n",
       "      <td>4</td>\n",
       "      <td>3</td>\n",
       "      <td>0</td>\n",
       "      <td>4</td>\n",
       "      <td>4</td>\n",
       "    </tr>\n",
       "    <tr>\n",
       "      <th>AB1 0AE</th>\n",
       "      <td>1</td>\n",
       "      <td>1</td>\n",
       "      <td>1</td>\n",
       "      <td>1</td>\n",
       "      <td>1</td>\n",
       "      <td>1</td>\n",
       "      <td>1</td>\n",
       "      <td>1</td>\n",
       "      <td>1</td>\n",
       "      <td>0</td>\n",
       "      <td>1</td>\n",
       "      <td>1</td>\n",
       "    </tr>\n",
       "    <tr>\n",
       "      <th>AB1 0AF</th>\n",
       "      <td>6</td>\n",
       "      <td>6</td>\n",
       "      <td>6</td>\n",
       "      <td>6</td>\n",
       "      <td>6</td>\n",
       "      <td>6</td>\n",
       "      <td>6</td>\n",
       "      <td>6</td>\n",
       "      <td>5</td>\n",
       "      <td>1</td>\n",
       "      <td>6</td>\n",
       "      <td>6</td>\n",
       "    </tr>\n",
       "    <tr>\n",
       "      <th>AB1 0AG</th>\n",
       "      <td>5</td>\n",
       "      <td>5</td>\n",
       "      <td>5</td>\n",
       "      <td>5</td>\n",
       "      <td>5</td>\n",
       "      <td>5</td>\n",
       "      <td>5</td>\n",
       "      <td>5</td>\n",
       "      <td>5</td>\n",
       "      <td>1</td>\n",
       "      <td>5</td>\n",
       "      <td>5</td>\n",
       "    </tr>\n",
       "    <tr>\n",
       "      <th>AB1 0AJ</th>\n",
       "      <td>4</td>\n",
       "      <td>4</td>\n",
       "      <td>4</td>\n",
       "      <td>4</td>\n",
       "      <td>4</td>\n",
       "      <td>4</td>\n",
       "      <td>4</td>\n",
       "      <td>4</td>\n",
       "      <td>3</td>\n",
       "      <td>0</td>\n",
       "      <td>4</td>\n",
       "      <td>4</td>\n",
       "    </tr>\n",
       "    <tr>\n",
       "      <th>...</th>\n",
       "      <td>...</td>\n",
       "      <td>...</td>\n",
       "      <td>...</td>\n",
       "      <td>...</td>\n",
       "      <td>...</td>\n",
       "      <td>...</td>\n",
       "      <td>...</td>\n",
       "      <td>...</td>\n",
       "      <td>...</td>\n",
       "      <td>...</td>\n",
       "      <td>...</td>\n",
       "      <td>...</td>\n",
       "    </tr>\n",
       "    <tr>\n",
       "      <th>ZE2 9XX</th>\n",
       "      <td>1</td>\n",
       "      <td>1</td>\n",
       "      <td>1</td>\n",
       "      <td>1</td>\n",
       "      <td>1</td>\n",
       "      <td>1</td>\n",
       "      <td>1</td>\n",
       "      <td>1</td>\n",
       "      <td>1</td>\n",
       "      <td>0</td>\n",
       "      <td>1</td>\n",
       "      <td>1</td>\n",
       "    </tr>\n",
       "    <tr>\n",
       "      <th>ZE2 9YB</th>\n",
       "      <td>4</td>\n",
       "      <td>4</td>\n",
       "      <td>4</td>\n",
       "      <td>4</td>\n",
       "      <td>4</td>\n",
       "      <td>4</td>\n",
       "      <td>4</td>\n",
       "      <td>4</td>\n",
       "      <td>2</td>\n",
       "      <td>0</td>\n",
       "      <td>4</td>\n",
       "      <td>4</td>\n",
       "    </tr>\n",
       "    <tr>\n",
       "      <th>ZE2 9YD</th>\n",
       "      <td>15</td>\n",
       "      <td>15</td>\n",
       "      <td>15</td>\n",
       "      <td>15</td>\n",
       "      <td>15</td>\n",
       "      <td>15</td>\n",
       "      <td>15</td>\n",
       "      <td>15</td>\n",
       "      <td>8</td>\n",
       "      <td>0</td>\n",
       "      <td>15</td>\n",
       "      <td>15</td>\n",
       "    </tr>\n",
       "    <tr>\n",
       "      <th>ZE2 9YF</th>\n",
       "      <td>4</td>\n",
       "      <td>4</td>\n",
       "      <td>4</td>\n",
       "      <td>4</td>\n",
       "      <td>4</td>\n",
       "      <td>4</td>\n",
       "      <td>4</td>\n",
       "      <td>4</td>\n",
       "      <td>3</td>\n",
       "      <td>0</td>\n",
       "      <td>4</td>\n",
       "      <td>4</td>\n",
       "    </tr>\n",
       "    <tr>\n",
       "      <th>ZE2 9ZG</th>\n",
       "      <td>8</td>\n",
       "      <td>8</td>\n",
       "      <td>8</td>\n",
       "      <td>8</td>\n",
       "      <td>8</td>\n",
       "      <td>8</td>\n",
       "      <td>8</td>\n",
       "      <td>8</td>\n",
       "      <td>3</td>\n",
       "      <td>0</td>\n",
       "      <td>8</td>\n",
       "      <td>8</td>\n",
       "    </tr>\n",
       "  </tbody>\n",
       "</table>\n",
       "<p>1212038 rows × 12 columns</p>\n",
       "</div>"
      ],
      "text/plain": [
       "         geometry  index_right  fid  id  fictitious  flowDirect  length  form  \\\n",
       "pcds                                                                            \n",
       "AB1 0AD         4            4    4   4           4           4       4     4   \n",
       "AB1 0AE         1            1    1   1           1           1       1     1   \n",
       "AB1 0AF         6            6    6   6           6           6       6     6   \n",
       "AB1 0AG         5            5    5   5           5           5       5     5   \n",
       "AB1 0AJ         4            4    4   4           4           4       4     4   \n",
       "...           ...          ...  ...  ..         ...         ...     ...   ...   \n",
       "ZE2 9XX         1            1    1   1           1           1       1     1   \n",
       "ZE2 9YB         4            4    4   4           4           4       4     4   \n",
       "ZE2 9YD        15           15   15  15          15          15      15    15   \n",
       "ZE2 9YF         4            4    4   4           4           4       4     4   \n",
       "ZE2 9ZG         8            8    8   8           8           8       8     8   \n",
       "\n",
       "         watercours  watercou_1  startNode  endNode  \n",
       "pcds                                                 \n",
       "AB1 0AD           3           0          4        4  \n",
       "AB1 0AE           1           0          1        1  \n",
       "AB1 0AF           5           1          6        6  \n",
       "AB1 0AG           5           1          5        5  \n",
       "AB1 0AJ           3           0          4        4  \n",
       "...             ...         ...        ...      ...  \n",
       "ZE2 9XX           1           0          1        1  \n",
       "ZE2 9YB           2           0          4        4  \n",
       "ZE2 9YD           8           0         15       15  \n",
       "ZE2 9YF           3           0          4        4  \n",
       "ZE2 9ZG           3           0          8        8  \n",
       "\n",
       "[1212038 rows x 12 columns]"
      ]
     },
     "execution_count": 53,
     "metadata": {},
     "output_type": "execute_result"
    }
   ],
   "source": [
    "data_merged.groupby('pcds').agg('count')"
   ]
  },
  {
   "cell_type": "code",
   "execution_count": 54,
   "id": "d0332bac-24dd-409d-9ff4-5a7652856d47",
   "metadata": {},
   "outputs": [
    {
     "data": {
      "text/html": [
       "<div>\n",
       "<style scoped>\n",
       "    .dataframe tbody tr th:only-of-type {\n",
       "        vertical-align: middle;\n",
       "    }\n",
       "\n",
       "    .dataframe tbody tr th {\n",
       "        vertical-align: top;\n",
       "    }\n",
       "\n",
       "    .dataframe thead th {\n",
       "        text-align: right;\n",
       "    }\n",
       "</style>\n",
       "<table border=\"1\" class=\"dataframe\">\n",
       "  <thead>\n",
       "    <tr style=\"text-align: right;\">\n",
       "      <th></th>\n",
       "      <th>pcds</th>\n",
       "      <th>nearest_form</th>\n",
       "      <th>nearest_watercourse_name</th>\n",
       "      <th>count_ref_loc_within_radius</th>\n",
       "    </tr>\n",
       "  </thead>\n",
       "  <tbody>\n",
       "    <tr>\n",
       "      <th>0</th>\n",
       "      <td>AB1 0AD</td>\n",
       "      <td>inlandRiver</td>\n",
       "      <td>River Dee</td>\n",
       "      <td>3</td>\n",
       "    </tr>\n",
       "    <tr>\n",
       "      <th>1</th>\n",
       "      <td>AB1 0AE</td>\n",
       "      <td>inlandRiver</td>\n",
       "      <td>River Dee</td>\n",
       "      <td>1</td>\n",
       "    </tr>\n",
       "    <tr>\n",
       "      <th>2</th>\n",
       "      <td>AB1 0AF</td>\n",
       "      <td>inlandRiver</td>\n",
       "      <td>Culter Burn</td>\n",
       "      <td>1</td>\n",
       "    </tr>\n",
       "    <tr>\n",
       "      <th>3</th>\n",
       "      <td>AB1 0AF</td>\n",
       "      <td>inlandRiver</td>\n",
       "      <td>River Dee</td>\n",
       "      <td>4</td>\n",
       "    </tr>\n",
       "    <tr>\n",
       "      <th>4</th>\n",
       "      <td>AB1 0AG</td>\n",
       "      <td>inlandRiver</td>\n",
       "      <td>Buckler Burn</td>\n",
       "      <td>1</td>\n",
       "    </tr>\n",
       "    <tr>\n",
       "      <th>...</th>\n",
       "      <td>...</td>\n",
       "      <td>...</td>\n",
       "      <td>...</td>\n",
       "      <td>...</td>\n",
       "    </tr>\n",
       "    <tr>\n",
       "      <th>1441556</th>\n",
       "      <td>ZE2 9YF</td>\n",
       "      <td>inlandRiver</td>\n",
       "      <td>Burn of Droswall</td>\n",
       "      <td>1</td>\n",
       "    </tr>\n",
       "    <tr>\n",
       "      <th>1441557</th>\n",
       "      <td>ZE2 9YF</td>\n",
       "      <td>inlandRiver</td>\n",
       "      <td>Burn of Weisdale</td>\n",
       "      <td>2</td>\n",
       "    </tr>\n",
       "    <tr>\n",
       "      <th>1441558</th>\n",
       "      <td>ZE2 9ZG</td>\n",
       "      <td>inlandRiver</td>\n",
       "      <td>Burn of Voesgarth</td>\n",
       "      <td>1</td>\n",
       "    </tr>\n",
       "    <tr>\n",
       "      <th>1441559</th>\n",
       "      <td>ZE2 9ZG</td>\n",
       "      <td>tidalRiver</td>\n",
       "      <td>Burn of Gerdie</td>\n",
       "      <td>1</td>\n",
       "    </tr>\n",
       "    <tr>\n",
       "      <th>1441560</th>\n",
       "      <td>ZE2 9ZG</td>\n",
       "      <td>tidalRiver</td>\n",
       "      <td>Burn of Voesgarth</td>\n",
       "      <td>1</td>\n",
       "    </tr>\n",
       "  </tbody>\n",
       "</table>\n",
       "<p>1441561 rows × 4 columns</p>\n",
       "</div>"
      ],
      "text/plain": [
       "            pcds nearest_form nearest_watercourse_name  \\\n",
       "0        AB1 0AD  inlandRiver                River Dee   \n",
       "1        AB1 0AE  inlandRiver                River Dee   \n",
       "2        AB1 0AF  inlandRiver              Culter Burn   \n",
       "3        AB1 0AF  inlandRiver                River Dee   \n",
       "4        AB1 0AG  inlandRiver             Buckler Burn   \n",
       "...          ...          ...                      ...   \n",
       "1441556  ZE2 9YF  inlandRiver         Burn of Droswall   \n",
       "1441557  ZE2 9YF  inlandRiver         Burn of Weisdale   \n",
       "1441558  ZE2 9ZG  inlandRiver        Burn of Voesgarth   \n",
       "1441559  ZE2 9ZG   tidalRiver           Burn of Gerdie   \n",
       "1441560  ZE2 9ZG   tidalRiver        Burn of Voesgarth   \n",
       "\n",
       "         count_ref_loc_within_radius  \n",
       "0                                  3  \n",
       "1                                  1  \n",
       "2                                  1  \n",
       "3                                  4  \n",
       "4                                  1  \n",
       "...                              ...  \n",
       "1441556                            1  \n",
       "1441557                            2  \n",
       "1441558                            1  \n",
       "1441559                            1  \n",
       "1441560                            1  \n",
       "\n",
       "[1441561 rows x 4 columns]"
      ]
     },
     "execution_count": 54,
     "metadata": {},
     "output_type": "execute_result"
    }
   ],
   "source": [
    "Count = data_merged.groupby(['pcds','form','watercours'], as_index=False)['index_right'].count()\n",
    "Count.columns = ['pcds','nearest_form','nearest_watercourse_name','count_ref_loc_within_radius']\n",
    "Count"
   ]
  },
  {
   "cell_type": "markdown",
   "id": "77dbed87-347b-4228-a5ec-1906ba790342",
   "metadata": {},
   "source": [
    "<font color = 'blue'> Merge count dataframe onto previously created distance dataframe"
   ]
  },
  {
   "cell_type": "code",
   "execution_count": 55,
   "id": "67f415ba-04c6-4714-abd8-814517c2c944",
   "metadata": {},
   "outputs": [
    {
     "data": {
      "text/html": [
       "<div>\n",
       "<style scoped>\n",
       "    .dataframe tbody tr th:only-of-type {\n",
       "        vertical-align: middle;\n",
       "    }\n",
       "\n",
       "    .dataframe tbody tr th {\n",
       "        vertical-align: top;\n",
       "    }\n",
       "\n",
       "    .dataframe thead th {\n",
       "        text-align: right;\n",
       "    }\n",
       "</style>\n",
       "<table border=\"1\" class=\"dataframe\">\n",
       "  <thead>\n",
       "    <tr style=\"text-align: right;\">\n",
       "      <th></th>\n",
       "      <th>pcds</th>\n",
       "      <th>doterm</th>\n",
       "      <th>oseast1m</th>\n",
       "      <th>osnrth1m</th>\n",
       "      <th>ctry</th>\n",
       "      <th>ru11ind</th>\n",
       "      <th>geometry</th>\n",
       "      <th>nearest_form</th>\n",
       "      <th>nearest_watercourse_name</th>\n",
       "      <th>count_ref_loc_within_radius</th>\n",
       "    </tr>\n",
       "  </thead>\n",
       "  <tbody>\n",
       "    <tr>\n",
       "      <th>0</th>\n",
       "      <td>AB1 0AA</td>\n",
       "      <td>199606.0</td>\n",
       "      <td>385386.0</td>\n",
       "      <td>801193.0</td>\n",
       "      <td>S92000003</td>\n",
       "      <td>3</td>\n",
       "      <td>POINT (385386.000 801193.000)</td>\n",
       "      <td>NaN</td>\n",
       "      <td>NaN</td>\n",
       "      <td>NaN</td>\n",
       "    </tr>\n",
       "    <tr>\n",
       "      <th>1</th>\n",
       "      <td>AB1 0AB</td>\n",
       "      <td>199606.0</td>\n",
       "      <td>385177.0</td>\n",
       "      <td>801314.0</td>\n",
       "      <td>S92000003</td>\n",
       "      <td>3</td>\n",
       "      <td>POINT (385177.000 801314.000)</td>\n",
       "      <td>NaN</td>\n",
       "      <td>NaN</td>\n",
       "      <td>NaN</td>\n",
       "    </tr>\n",
       "    <tr>\n",
       "      <th>2</th>\n",
       "      <td>AB1 0AD</td>\n",
       "      <td>199606.0</td>\n",
       "      <td>385053.0</td>\n",
       "      <td>801092.0</td>\n",
       "      <td>S92000003</td>\n",
       "      <td>3</td>\n",
       "      <td>POINT (385053.000 801092.000)</td>\n",
       "      <td>inlandRiver</td>\n",
       "      <td>River Dee</td>\n",
       "      <td>3.0</td>\n",
       "    </tr>\n",
       "    <tr>\n",
       "      <th>3</th>\n",
       "      <td>AB1 0AE</td>\n",
       "      <td>199606.0</td>\n",
       "      <td>384600.0</td>\n",
       "      <td>799300.0</td>\n",
       "      <td>S92000003</td>\n",
       "      <td>6</td>\n",
       "      <td>POINT (384600.000 799300.000)</td>\n",
       "      <td>inlandRiver</td>\n",
       "      <td>River Dee</td>\n",
       "      <td>1.0</td>\n",
       "    </tr>\n",
       "    <tr>\n",
       "      <th>4</th>\n",
       "      <td>AB1 0AF</td>\n",
       "      <td>199207.0</td>\n",
       "      <td>384460.0</td>\n",
       "      <td>800660.0</td>\n",
       "      <td>S92000003</td>\n",
       "      <td>3</td>\n",
       "      <td>POINT (384460.000 800660.000)</td>\n",
       "      <td>inlandRiver</td>\n",
       "      <td>Culter Burn</td>\n",
       "      <td>1.0</td>\n",
       "    </tr>\n",
       "    <tr>\n",
       "      <th>...</th>\n",
       "      <td>...</td>\n",
       "      <td>...</td>\n",
       "      <td>...</td>\n",
       "      <td>...</td>\n",
       "      <td>...</td>\n",
       "      <td>...</td>\n",
       "      <td>...</td>\n",
       "      <td>...</td>\n",
       "      <td>...</td>\n",
       "      <td>...</td>\n",
       "    </tr>\n",
       "    <tr>\n",
       "      <th>3025243</th>\n",
       "      <td>ZE3 9JW</td>\n",
       "      <td>NaN</td>\n",
       "      <td>438975.0</td>\n",
       "      <td>1110038.0</td>\n",
       "      <td>S92000003</td>\n",
       "      <td>8</td>\n",
       "      <td>POINT (438975.000 1110038.000)</td>\n",
       "      <td>NaN</td>\n",
       "      <td>NaN</td>\n",
       "      <td>NaN</td>\n",
       "    </tr>\n",
       "    <tr>\n",
       "      <th>3025244</th>\n",
       "      <td>ZE3 9JX</td>\n",
       "      <td>NaN</td>\n",
       "      <td>438872.0</td>\n",
       "      <td>1110219.0</td>\n",
       "      <td>S92000003</td>\n",
       "      <td>8</td>\n",
       "      <td>POINT (438872.000 1110219.000)</td>\n",
       "      <td>NaN</td>\n",
       "      <td>NaN</td>\n",
       "      <td>NaN</td>\n",
       "    </tr>\n",
       "    <tr>\n",
       "      <th>3025245</th>\n",
       "      <td>ZE3 9JY</td>\n",
       "      <td>NaN</td>\n",
       "      <td>438498.0</td>\n",
       "      <td>1112029.0</td>\n",
       "      <td>S92000003</td>\n",
       "      <td>8</td>\n",
       "      <td>POINT (438498.000 1112029.000)</td>\n",
       "      <td>NaN</td>\n",
       "      <td>NaN</td>\n",
       "      <td>NaN</td>\n",
       "    </tr>\n",
       "    <tr>\n",
       "      <th>3025246</th>\n",
       "      <td>ZE3 9JZ</td>\n",
       "      <td>NaN</td>\n",
       "      <td>438662.0</td>\n",
       "      <td>1112122.0</td>\n",
       "      <td>S92000003</td>\n",
       "      <td>8</td>\n",
       "      <td>POINT (438662.000 1112122.000)</td>\n",
       "      <td>NaN</td>\n",
       "      <td>NaN</td>\n",
       "      <td>NaN</td>\n",
       "    </tr>\n",
       "    <tr>\n",
       "      <th>3025247</th>\n",
       "      <td>ZE3 9XP</td>\n",
       "      <td>199207.0</td>\n",
       "      <td>438854.0</td>\n",
       "      <td>1111535.0</td>\n",
       "      <td>S92000003</td>\n",
       "      <td>8</td>\n",
       "      <td>POINT (438854.000 1111535.000)</td>\n",
       "      <td>NaN</td>\n",
       "      <td>NaN</td>\n",
       "      <td>NaN</td>\n",
       "    </tr>\n",
       "  </tbody>\n",
       "</table>\n",
       "<p>3025248 rows × 10 columns</p>\n",
       "</div>"
      ],
      "text/plain": [
       "            pcds    doterm  oseast1m   osnrth1m       ctry ru11ind  \\\n",
       "0        AB1 0AA  199606.0  385386.0   801193.0  S92000003       3   \n",
       "1        AB1 0AB  199606.0  385177.0   801314.0  S92000003       3   \n",
       "2        AB1 0AD  199606.0  385053.0   801092.0  S92000003       3   \n",
       "3        AB1 0AE  199606.0  384600.0   799300.0  S92000003       6   \n",
       "4        AB1 0AF  199207.0  384460.0   800660.0  S92000003       3   \n",
       "...          ...       ...       ...        ...        ...     ...   \n",
       "3025243  ZE3 9JW       NaN  438975.0  1110038.0  S92000003       8   \n",
       "3025244  ZE3 9JX       NaN  438872.0  1110219.0  S92000003       8   \n",
       "3025245  ZE3 9JY       NaN  438498.0  1112029.0  S92000003       8   \n",
       "3025246  ZE3 9JZ       NaN  438662.0  1112122.0  S92000003       8   \n",
       "3025247  ZE3 9XP  199207.0  438854.0  1111535.0  S92000003       8   \n",
       "\n",
       "                               geometry nearest_form nearest_watercourse_name  \\\n",
       "0         POINT (385386.000 801193.000)          NaN                      NaN   \n",
       "1         POINT (385177.000 801314.000)          NaN                      NaN   \n",
       "2         POINT (385053.000 801092.000)  inlandRiver                River Dee   \n",
       "3         POINT (384600.000 799300.000)  inlandRiver                River Dee   \n",
       "4         POINT (384460.000 800660.000)  inlandRiver              Culter Burn   \n",
       "...                                 ...          ...                      ...   \n",
       "3025243  POINT (438975.000 1110038.000)          NaN                      NaN   \n",
       "3025244  POINT (438872.000 1110219.000)          NaN                      NaN   \n",
       "3025245  POINT (438498.000 1112029.000)          NaN                      NaN   \n",
       "3025246  POINT (438662.000 1112122.000)          NaN                      NaN   \n",
       "3025247  POINT (438854.000 1111535.000)          NaN                      NaN   \n",
       "\n",
       "         count_ref_loc_within_radius  \n",
       "0                                NaN  \n",
       "1                                NaN  \n",
       "2                                3.0  \n",
       "3                                1.0  \n",
       "4                                1.0  \n",
       "...                              ...  \n",
       "3025243                          NaN  \n",
       "3025244                          NaN  \n",
       "3025245                          NaN  \n",
       "3025246                          NaN  \n",
       "3025247                          NaN  \n",
       "\n",
       "[3025248 rows x 10 columns]"
      ]
     },
     "execution_count": 55,
     "metadata": {},
     "output_type": "execute_result"
    }
   ],
   "source": [
    "ref_data = geo_pcu.merge(Count, on=['pcds','pcds'], how='left')\n",
    "ref_data"
   ]
  },
  {
   "cell_type": "markdown",
   "id": "a07fec5c-c8c3-4136-9483-c9806084e50f",
   "metadata": {},
   "source": [
    "## <font color = 'blue'> Total line length within buffer of each point"
   ]
  },
  {
   "cell_type": "code",
   "execution_count": 56,
   "id": "dac67ada-1e26-4b10-813b-db89bfbbbd98",
   "metadata": {},
   "outputs": [],
   "source": [
    "def line_length(area):\n",
    "    '''Function to calculate total length of lines within defined buffer around each point'''\n",
    "    line_within_area = loc_data_geo.geometry.intersection(area)\n",
    "    return line_within_area.length.sum() / 1000"
   ]
  },
  {
   "cell_type": "code",
   "execution_count": null,
   "id": "4055f817-4bcc-4236-9643-9542a24c9051",
   "metadata": {},
   "outputs": [],
   "source": [
    "%%time\n",
    "ref_data['line_length'] = Count_df['geometry'].apply(line_length)"
   ]
  },
  {
   "cell_type": "code",
   "execution_count": null,
   "id": "83d202f9-da9f-4c4e-bc16-5014fb39098e",
   "metadata": {},
   "outputs": [],
   "source": [
    "ref_data.to_csv(r'----.csv')"
   ]
  },
  {
   "cell_type": "markdown",
   "id": "5f8f547b-38e5-4014-93ae-29993de12523",
   "metadata": {},
   "source": [
    "## <font color = 'blue'> Tidy df ready for export"
   ]
  },
  {
   "cell_type": "code",
   "execution_count": 54,
   "id": "55699615-c4d9-490d-8a00-c43a6c6b1590",
   "metadata": {},
   "outputs": [
    {
     "data": {
      "text/html": [
       "<div>\n",
       "<style scoped>\n",
       "    .dataframe tbody tr th:only-of-type {\n",
       "        vertical-align: middle;\n",
       "    }\n",
       "\n",
       "    .dataframe tbody tr th {\n",
       "        vertical-align: top;\n",
       "    }\n",
       "\n",
       "    .dataframe thead th {\n",
       "        text-align: right;\n",
       "    }\n",
       "</style>\n",
       "<table border=\"1\" class=\"dataframe\">\n",
       "  <thead>\n",
       "    <tr style=\"text-align: right;\">\n",
       "      <th></th>\n",
       "      <th>pcds</th>\n",
       "      <th>doterm</th>\n",
       "      <th>ctry</th>\n",
       "      <th>ru11ind</th>\n",
       "      <th>min_dist_to_lines</th>\n",
       "      <th>nearest_form</th>\n",
       "      <th>nearest_watercourse_name</th>\n",
       "      <th>count_ref_loc_within_radius</th>\n",
       "    </tr>\n",
       "  </thead>\n",
       "  <tbody>\n",
       "    <tr>\n",
       "      <th>0</th>\n",
       "      <td>AB1 0AA</td>\n",
       "      <td>199606.0</td>\n",
       "      <td>S92000003</td>\n",
       "      <td>3</td>\n",
       "      <td>562.679098</td>\n",
       "      <td>NaN</td>\n",
       "      <td>NaN</td>\n",
       "      <td>NaN</td>\n",
       "    </tr>\n",
       "    <tr>\n",
       "      <th>1</th>\n",
       "      <td>AB1 0AB</td>\n",
       "      <td>199606.0</td>\n",
       "      <td>S92000003</td>\n",
       "      <td>3</td>\n",
       "      <td>569.055261</td>\n",
       "      <td>NaN</td>\n",
       "      <td>NaN</td>\n",
       "      <td>NaN</td>\n",
       "    </tr>\n",
       "    <tr>\n",
       "      <th>2</th>\n",
       "      <td>AB1 0AD</td>\n",
       "      <td>199606.0</td>\n",
       "      <td>S92000003</td>\n",
       "      <td>3</td>\n",
       "      <td>320.304830</td>\n",
       "      <td>inlandRiver</td>\n",
       "      <td>River Dee</td>\n",
       "      <td>3.0</td>\n",
       "    </tr>\n",
       "    <tr>\n",
       "      <th>3</th>\n",
       "      <td>AB1 0AE</td>\n",
       "      <td>199606.0</td>\n",
       "      <td>S92000003</td>\n",
       "      <td>6</td>\n",
       "      <td>326.466497</td>\n",
       "      <td>inlandRiver</td>\n",
       "      <td>River Dee</td>\n",
       "      <td>1.0</td>\n",
       "    </tr>\n",
       "    <tr>\n",
       "      <th>4</th>\n",
       "      <td>AB1 0AF</td>\n",
       "      <td>199207.0</td>\n",
       "      <td>S92000003</td>\n",
       "      <td>3</td>\n",
       "      <td>131.860561</td>\n",
       "      <td>inlandRiver</td>\n",
       "      <td>Culter Burn</td>\n",
       "      <td>1.0</td>\n",
       "    </tr>\n",
       "    <tr>\n",
       "      <th>...</th>\n",
       "      <td>...</td>\n",
       "      <td>...</td>\n",
       "      <td>...</td>\n",
       "      <td>...</td>\n",
       "      <td>...</td>\n",
       "      <td>...</td>\n",
       "      <td>...</td>\n",
       "      <td>...</td>\n",
       "    </tr>\n",
       "    <tr>\n",
       "      <th>3025243</th>\n",
       "      <td>ZE3 9JW</td>\n",
       "      <td>NaN</td>\n",
       "      <td>S92000003</td>\n",
       "      <td>8</td>\n",
       "      <td>2798.931100</td>\n",
       "      <td>NaN</td>\n",
       "      <td>NaN</td>\n",
       "      <td>NaN</td>\n",
       "    </tr>\n",
       "    <tr>\n",
       "      <th>3025244</th>\n",
       "      <td>ZE3 9JX</td>\n",
       "      <td>NaN</td>\n",
       "      <td>S92000003</td>\n",
       "      <td>8</td>\n",
       "      <td>2656.078410</td>\n",
       "      <td>NaN</td>\n",
       "      <td>NaN</td>\n",
       "      <td>NaN</td>\n",
       "    </tr>\n",
       "    <tr>\n",
       "      <th>3025245</th>\n",
       "      <td>ZE3 9JY</td>\n",
       "      <td>NaN</td>\n",
       "      <td>S92000003</td>\n",
       "      <td>8</td>\n",
       "      <td>817.621259</td>\n",
       "      <td>NaN</td>\n",
       "      <td>NaN</td>\n",
       "      <td>NaN</td>\n",
       "    </tr>\n",
       "    <tr>\n",
       "      <th>3025246</th>\n",
       "      <td>ZE3 9JZ</td>\n",
       "      <td>NaN</td>\n",
       "      <td>S92000003</td>\n",
       "      <td>8</td>\n",
       "      <td>746.191385</td>\n",
       "      <td>NaN</td>\n",
       "      <td>NaN</td>\n",
       "      <td>NaN</td>\n",
       "    </tr>\n",
       "    <tr>\n",
       "      <th>3025247</th>\n",
       "      <td>ZE3 9XP</td>\n",
       "      <td>199207.0</td>\n",
       "      <td>S92000003</td>\n",
       "      <td>8</td>\n",
       "      <td>1362.860023</td>\n",
       "      <td>NaN</td>\n",
       "      <td>NaN</td>\n",
       "      <td>NaN</td>\n",
       "    </tr>\n",
       "  </tbody>\n",
       "</table>\n",
       "<p>3025248 rows × 8 columns</p>\n",
       "</div>"
      ],
      "text/plain": [
       "            pcds    doterm       ctry ru11ind  min_dist_to_lines nearest_form  \\\n",
       "0        AB1 0AA  199606.0  S92000003       3         562.679098          NaN   \n",
       "1        AB1 0AB  199606.0  S92000003       3         569.055261          NaN   \n",
       "2        AB1 0AD  199606.0  S92000003       3         320.304830  inlandRiver   \n",
       "3        AB1 0AE  199606.0  S92000003       6         326.466497  inlandRiver   \n",
       "4        AB1 0AF  199207.0  S92000003       3         131.860561  inlandRiver   \n",
       "...          ...       ...        ...     ...                ...          ...   \n",
       "3025243  ZE3 9JW       NaN  S92000003       8        2798.931100          NaN   \n",
       "3025244  ZE3 9JX       NaN  S92000003       8        2656.078410          NaN   \n",
       "3025245  ZE3 9JY       NaN  S92000003       8         817.621259          NaN   \n",
       "3025246  ZE3 9JZ       NaN  S92000003       8         746.191385          NaN   \n",
       "3025247  ZE3 9XP  199207.0  S92000003       8        1362.860023          NaN   \n",
       "\n",
       "        nearest_watercourse_name  count_ref_loc_within_radius  \n",
       "0                            NaN                          NaN  \n",
       "1                            NaN                          NaN  \n",
       "2                      River Dee                          3.0  \n",
       "3                      River Dee                          1.0  \n",
       "4                    Culter Burn                          1.0  \n",
       "...                          ...                          ...  \n",
       "3025243                      NaN                          NaN  \n",
       "3025244                      NaN                          NaN  \n",
       "3025245                      NaN                          NaN  \n",
       "3025246                      NaN                          NaN  \n",
       "3025247                      NaN                          NaN  \n",
       "\n",
       "[3025248 rows x 8 columns]"
      ]
     },
     "execution_count": 54,
     "metadata": {},
     "output_type": "execute_result"
    }
   ],
   "source": [
    "output = ref_data.drop(columns=['oseast1m','osnrth1m','geometry'])\n",
    "output"
   ]
  },
  {
   "cell_type": "markdown",
   "id": "d733cb07-1b85-4b9f-b32e-00f22ca588a4",
   "metadata": {},
   "source": [
    "# Save to file"
   ]
  },
  {
   "cell_type": "code",
   "execution_count": 55,
   "id": "0bbb8d51-775d-4ca0-8325-31590156853a",
   "metadata": {},
   "outputs": [],
   "source": [
    "#output.to_csv('geo_ref_data.csv', index=False)"
   ]
  },
  {
   "cell_type": "code",
   "execution_count": 56,
   "id": "4d8ac1e4-7e9c-44b3-9345-a713a9c56592",
   "metadata": {},
   "outputs": [],
   "source": [
    "output.to_csv(r'----.csv')"
   ]
  }
 ],
 "metadata": {
  "kernelspec": {
   "display_name": "Python [conda env:root] *",
   "language": "python",
   "name": "conda-root-py"
  },
  "language_info": {
   "codemirror_mode": {
    "name": "ipython",
    "version": 3
   },
   "file_extension": ".py",
   "mimetype": "text/x-python",
   "name": "python",
   "nbconvert_exporter": "python",
   "pygments_lexer": "ipython3",
   "version": "3.8.8"
  }
 },
 "nbformat": 4,
 "nbformat_minor": 5
}
