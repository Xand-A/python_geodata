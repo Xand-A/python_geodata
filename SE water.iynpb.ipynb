{
 "cells": [
  {
   "cell_type": "markdown",
   "metadata": {},
   "source": [
    "## Extracting Water hardness from SE water website\n",
    "\n",
    "Notebook attempting to extract water hardness from SE Water website, a WIP"
   ]
  },
  {
   "cell_type": "code",
   "execution_count": 2,
   "metadata": {},
   "outputs": [
    {
     "name": "stdout",
     "output_type": "stream",
     "text": [
      "{'postcode': 'BN21 2DB', 'address': None, 'hardness': None, 'unit': None, 'description': None}\n"
     ]
    }
   ],
   "source": [
    "import requests\n",
    "\n",
    "def get_water_hardness(postcode):\n",
    "    url = \"https://europe-west2-dt-ma2-prd.cloudfunctions.net/waterHardnessCF\"\n",
    "    headers = {\n",
    "        \"Content-Type\": \"application/json\"\n",
    "    }\n",
    "\n",
    "    # Keep postcode format as in your payload (with space, proper case)\n",
    "    payload = {\n",
    "        \"data\": {\n",
    "            \"postCode\": postcode,\n",
    "            \"address\": \"\",\n",
    "            \"customerReference\": \"\",\n",
    "            \"propertyReference\": \"\",\n",
    "            \"meterKey\": \"method\",\n",
    "            \"method\": \"GET\",\n",
    "            \"uid\": None,\n",
    "            \"searchString\": None,\n",
    "            \"caseChoice\": \"\"\n",
    "        }\n",
    "    }\n",
    "\n",
    "    response = requests.post(url, json=payload, headers=headers)\n",
    "    response.raise_for_status()\n",
    "    data = response.json()\n",
    "\n",
    "    result = data.get(\"result\")\n",
    "    if result:\n",
    "        return {\n",
    "            \"postcode\": postcode,\n",
    "            \"address\": result.get(\"address\"),\n",
    "            \"hardness\": result.get(\"hardness\"),\n",
    "            \"unit\": result.get(\"unit\"),\n",
    "            \"description\": result.get(\"description\"),\n",
    "        }\n",
    "    else:\n",
    "        return {\"error\": \"No result found\"}\n",
    "\n",
    "# Example\n",
    "result = get_water_hardness(\"BN21 2DB\")\n",
    "print(result)\n"
   ]
  }
 ],
 "metadata": {
  "kernelspec": {
   "display_name": "Python 3",
   "language": "python",
   "name": "python3"
  },
  "language_info": {
   "codemirror_mode": {
    "name": "ipython",
    "version": 3
   },
   "file_extension": ".py",
   "mimetype": "text/x-python",
   "name": "python",
   "nbconvert_exporter": "python",
   "pygments_lexer": "ipython3",
   "version": "3.11.9"
  }
 },
 "nbformat": 4,
 "nbformat_minor": 2
}
